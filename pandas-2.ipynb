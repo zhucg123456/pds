{
 "cells": [
  {
   "cell_type": "code",
   "execution_count": 2,
   "id": "a8393643",
   "metadata": {},
   "outputs": [],
   "source": [
    "import numpy as np \n",
    "import pandas as pd"
   ]
  },
  {
   "cell_type": "code",
   "execution_count": 9,
   "id": "ed79671a",
   "metadata": {},
   "outputs": [
    {
     "data": {
      "text/html": [
       "<div>\n",
       "<style scoped>\n",
       "    .dataframe tbody tr th:only-of-type {\n",
       "        vertical-align: middle;\n",
       "    }\n",
       "\n",
       "    .dataframe tbody tr th {\n",
       "        vertical-align: top;\n",
       "    }\n",
       "\n",
       "    .dataframe thead th {\n",
       "        text-align: right;\n",
       "    }\n",
       "</style>\n",
       "<table border=\"1\" class=\"dataframe\">\n",
       "  <thead>\n",
       "    <tr style=\"text-align: right;\">\n",
       "      <th></th>\n",
       "      <th>col1</th>\n",
       "      <th>col2</th>\n",
       "      <th>col3</th>\n",
       "      <th>col4</th>\n",
       "      <th>col5</th>\n",
       "    </tr>\n",
       "  </thead>\n",
       "  <tbody>\n",
       "    <tr>\n",
       "      <th>0</th>\n",
       "      <td>2</td>\n",
       "      <td>a</td>\n",
       "      <td>1.4</td>\n",
       "      <td>apple</td>\n",
       "      <td>2020/1/1</td>\n",
       "    </tr>\n",
       "    <tr>\n",
       "      <th>1</th>\n",
       "      <td>3</td>\n",
       "      <td>b</td>\n",
       "      <td>3.4</td>\n",
       "      <td>banana</td>\n",
       "      <td>2020/1/2</td>\n",
       "    </tr>\n",
       "    <tr>\n",
       "      <th>2</th>\n",
       "      <td>6</td>\n",
       "      <td>c</td>\n",
       "      <td>2.5</td>\n",
       "      <td>orange</td>\n",
       "      <td>2020/1/5</td>\n",
       "    </tr>\n",
       "    <tr>\n",
       "      <th>3</th>\n",
       "      <td>5</td>\n",
       "      <td>d</td>\n",
       "      <td>3.2</td>\n",
       "      <td>lemon</td>\n",
       "      <td>2020/1/7</td>\n",
       "    </tr>\n",
       "  </tbody>\n",
       "</table>\n",
       "</div>"
      ],
      "text/plain": [
       "   col1 col2  col3    col4      col5\n",
       "0     2    a   1.4   apple  2020/1/1\n",
       "1     3    b   3.4  banana  2020/1/2\n",
       "2     6    c   2.5  orange  2020/1/5\n",
       "3     5    d   3.2   lemon  2020/1/7"
      ]
     },
     "execution_count": 9,
     "metadata": {},
     "output_type": "execute_result"
    }
   ],
   "source": [
    "df_csv = pd.read_csv('pandas\\\\data\\\\my_csv.csv')\n",
    "df_csv"
   ]
  },
  {
   "cell_type": "code",
   "execution_count": 99,
   "id": "8ea53a0d",
   "metadata": {},
   "outputs": [
    {
     "data": {
      "text/html": [
       "<div>\n",
       "<style scoped>\n",
       "    .dataframe tbody tr th:only-of-type {\n",
       "        vertical-align: middle;\n",
       "    }\n",
       "\n",
       "    .dataframe tbody tr th {\n",
       "        vertical-align: top;\n",
       "    }\n",
       "\n",
       "    .dataframe thead th {\n",
       "        text-align: right;\n",
       "    }\n",
       "</style>\n",
       "<table border=\"1\" class=\"dataframe\">\n",
       "  <thead>\n",
       "    <tr style=\"text-align: right;\">\n",
       "      <th></th>\n",
       "      <th>col1</th>\n",
       "      <th>col2</th>\n",
       "      <th>col3</th>\n",
       "      <th>col4</th>\n",
       "    </tr>\n",
       "  </thead>\n",
       "  <tbody>\n",
       "    <tr>\n",
       "      <th>0</th>\n",
       "      <td>2</td>\n",
       "      <td>a</td>\n",
       "      <td>1.4</td>\n",
       "      <td>apple 2020/1/1</td>\n",
       "    </tr>\n",
       "    <tr>\n",
       "      <th>1</th>\n",
       "      <td>3</td>\n",
       "      <td>b</td>\n",
       "      <td>3.4</td>\n",
       "      <td>banana 2020/1/2</td>\n",
       "    </tr>\n",
       "    <tr>\n",
       "      <th>2</th>\n",
       "      <td>6</td>\n",
       "      <td>c</td>\n",
       "      <td>2.5</td>\n",
       "      <td>orange 2020/1/5</td>\n",
       "    </tr>\n",
       "    <tr>\n",
       "      <th>3</th>\n",
       "      <td>5</td>\n",
       "      <td>d</td>\n",
       "      <td>3.2</td>\n",
       "      <td>lemon 2020/1/7</td>\n",
       "    </tr>\n",
       "  </tbody>\n",
       "</table>\n",
       "</div>"
      ],
      "text/plain": [
       "   col1 col2  col3             col4\n",
       "0     2    a   1.4   apple 2020/1/1\n",
       "1     3    b   3.4  banana 2020/1/2\n",
       "2     6    c   2.5  orange 2020/1/5\n",
       "3     5    d   3.2   lemon 2020/1/7"
      ]
     },
     "execution_count": 99,
     "metadata": {},
     "output_type": "execute_result"
    }
   ],
   "source": [
    "df_txt = pd.read_table('pandas/data/my_table.txt')\n",
    "df_txt.shape#(4,4)\n",
    "df_txt"
   ]
  },
  {
   "cell_type": "code",
   "execution_count": 100,
   "id": "40f838cb",
   "metadata": {},
   "outputs": [
    {
     "data": {
      "text/plain": [
       "0    0.312954\n",
       "1    0.429275\n",
       "2    0.501742\n",
       "3    0.739662\n",
       "4    0.730914\n",
       "dtype: float64"
      ]
     },
     "execution_count": 100,
     "metadata": {},
     "output_type": "execute_result"
    }
   ],
   "source": [
    "ds = pd.Series(np.random.random(5))\n",
    "ds # series只能是一维的，但是这个一维的元素可以是一个数组"
   ]
  },
  {
   "cell_type": "code",
   "execution_count": 337,
   "id": "0846ecfd",
   "metadata": {},
   "outputs": [
    {
     "data": {
      "text/plain": [
       "0    0.602763\n",
       "1    0.437587\n",
       "2    0.791725\n",
       "3    0.071036\n",
       "4    0.778157\n",
       "5    0.461479\n",
       "Name: 2, dtype: float64"
      ]
     },
     "execution_count": 337,
     "metadata": {},
     "output_type": "execute_result"
    }
   ],
   "source": [
    "dates = pd.date_range('20220824',periods= 6)\n",
    "dates\n",
    "np.random.seed(0)\n",
    "d1 = pd.DataFrame(np.random.random((6,4))) #df 可以直接从二维数组生成，index和columns是可选的optional\n",
    "d1\n",
    "# 如何添加限制条件\n",
    "d1[d1>0.1][0:6][[0,2,2,3]] #列名加两个框，并且通过名字来索引，可以重复\n",
    "d1[2:4][[0,3]][d1>0.1]  #只要取出来的是df，就可以在后面加判别条件\n",
    "\n",
    "#下面这个不行！单列取出来是Series，不能这么用\n",
    "a = d1[2][[0,3]] #type(a) #Series\n",
    "a\n",
    "\n",
    "#a = d1[2][[0,3]][d1>0.1] "
   ]
  },
  {
   "cell_type": "markdown",
   "id": "0b1c38fc",
   "metadata": {},
   "source": [
    "# 如何用serie 取行？\n",
    "\n",
    "# d1[0] 取第0列 用Series取列\n",
    "\n",
    "# d1[0:1]  取第一行  即用DataFrame取行\n",
    "\n",
    "# d1[[0]]   取第一列  即用DataFrame取列\n",
    "\n",
    "# 索引的具体使用，下一节细说"
   ]
  },
  {
   "cell_type": "code",
   "execution_count": 98,
   "id": "d1c67ca2",
   "metadata": {},
   "outputs": [
    {
     "data": {
      "text/plain": [
       "0    4\n",
       "1    4\n",
       "2    4\n",
       "3    4\n",
       "dtype: int64"
      ]
     },
     "execution_count": 98,
     "metadata": {},
     "output_type": "execute_result"
    }
   ],
   "source": [
    "d1[d1>0.1][1].count() #5 只有一列的时候，对这一列计数   count 可以自己排除nan\n",
    "d1[d1>0.1][1].dropna().count() #5 \n",
    "\n",
    "d1[d1>0.1].dropna()#.count()  # 全为4  横着计数\n",
    "d1[d1>0.1].dropna().count()   #同样全为4"
   ]
  },
  {
   "cell_type": "markdown",
   "id": "1b73770f",
   "metadata": {},
   "source": [
    "# 练习解答"
   ]
  },
  {
   "cell_type": "code",
   "execution_count": 474,
   "id": "f6a1f537",
   "metadata": {},
   "outputs": [
    {
     "data": {
      "text/html": [
       "<div>\n",
       "<style scoped>\n",
       "    .dataframe tbody tr th:only-of-type {\n",
       "        vertical-align: middle;\n",
       "    }\n",
       "\n",
       "    .dataframe tbody tr th {\n",
       "        vertical-align: top;\n",
       "    }\n",
       "\n",
       "    .dataframe thead th {\n",
       "        text-align: right;\n",
       "    }\n",
       "</style>\n",
       "<table border=\"1\" class=\"dataframe\">\n",
       "  <thead>\n",
       "    <tr style=\"text-align: right;\">\n",
       "      <th></th>\n",
       "      <th>#</th>\n",
       "      <th>Name</th>\n",
       "      <th>Type 1</th>\n",
       "      <th>Type 2</th>\n",
       "      <th>Total</th>\n",
       "      <th>HP</th>\n",
       "      <th>Attack</th>\n",
       "      <th>Defense</th>\n",
       "      <th>Sp. Atk</th>\n",
       "      <th>Sp. Def</th>\n",
       "      <th>Speed</th>\n",
       "    </tr>\n",
       "  </thead>\n",
       "  <tbody>\n",
       "    <tr>\n",
       "      <th>0</th>\n",
       "      <td>1</td>\n",
       "      <td>Bulbasaur</td>\n",
       "      <td>Grass</td>\n",
       "      <td>Poison</td>\n",
       "      <td>318</td>\n",
       "      <td>45</td>\n",
       "      <td>49</td>\n",
       "      <td>49</td>\n",
       "      <td>65</td>\n",
       "      <td>65</td>\n",
       "      <td>45</td>\n",
       "    </tr>\n",
       "    <tr>\n",
       "      <th>1</th>\n",
       "      <td>2</td>\n",
       "      <td>Ivysaur</td>\n",
       "      <td>Grass</td>\n",
       "      <td>Poison</td>\n",
       "      <td>405</td>\n",
       "      <td>60</td>\n",
       "      <td>62</td>\n",
       "      <td>63</td>\n",
       "      <td>80</td>\n",
       "      <td>80</td>\n",
       "      <td>60</td>\n",
       "    </tr>\n",
       "    <tr>\n",
       "      <th>2</th>\n",
       "      <td>3</td>\n",
       "      <td>Venusaur</td>\n",
       "      <td>Grass</td>\n",
       "      <td>Poison</td>\n",
       "      <td>525</td>\n",
       "      <td>80</td>\n",
       "      <td>82</td>\n",
       "      <td>83</td>\n",
       "      <td>100</td>\n",
       "      <td>100</td>\n",
       "      <td>80</td>\n",
       "    </tr>\n",
       "    <tr>\n",
       "      <th>3</th>\n",
       "      <td>3</td>\n",
       "      <td>VenusaurMega Venusaur</td>\n",
       "      <td>Grass</td>\n",
       "      <td>Poison</td>\n",
       "      <td>625</td>\n",
       "      <td>80</td>\n",
       "      <td>100</td>\n",
       "      <td>123</td>\n",
       "      <td>122</td>\n",
       "      <td>120</td>\n",
       "      <td>80</td>\n",
       "    </tr>\n",
       "    <tr>\n",
       "      <th>4</th>\n",
       "      <td>4</td>\n",
       "      <td>Charmander</td>\n",
       "      <td>Fire</td>\n",
       "      <td>NaN</td>\n",
       "      <td>309</td>\n",
       "      <td>39</td>\n",
       "      <td>52</td>\n",
       "      <td>43</td>\n",
       "      <td>60</td>\n",
       "      <td>50</td>\n",
       "      <td>65</td>\n",
       "    </tr>\n",
       "    <tr>\n",
       "      <th>...</th>\n",
       "      <td>...</td>\n",
       "      <td>...</td>\n",
       "      <td>...</td>\n",
       "      <td>...</td>\n",
       "      <td>...</td>\n",
       "      <td>...</td>\n",
       "      <td>...</td>\n",
       "      <td>...</td>\n",
       "      <td>...</td>\n",
       "      <td>...</td>\n",
       "      <td>...</td>\n",
       "    </tr>\n",
       "    <tr>\n",
       "      <th>795</th>\n",
       "      <td>719</td>\n",
       "      <td>Diancie</td>\n",
       "      <td>Rock</td>\n",
       "      <td>Fairy</td>\n",
       "      <td>600</td>\n",
       "      <td>50</td>\n",
       "      <td>100</td>\n",
       "      <td>150</td>\n",
       "      <td>100</td>\n",
       "      <td>150</td>\n",
       "      <td>50</td>\n",
       "    </tr>\n",
       "    <tr>\n",
       "      <th>796</th>\n",
       "      <td>719</td>\n",
       "      <td>DiancieMega Diancie</td>\n",
       "      <td>Rock</td>\n",
       "      <td>Fairy</td>\n",
       "      <td>700</td>\n",
       "      <td>50</td>\n",
       "      <td>160</td>\n",
       "      <td>110</td>\n",
       "      <td>160</td>\n",
       "      <td>110</td>\n",
       "      <td>110</td>\n",
       "    </tr>\n",
       "    <tr>\n",
       "      <th>797</th>\n",
       "      <td>720</td>\n",
       "      <td>HoopaHoopa Confined</td>\n",
       "      <td>Psychic</td>\n",
       "      <td>Ghost</td>\n",
       "      <td>600</td>\n",
       "      <td>80</td>\n",
       "      <td>110</td>\n",
       "      <td>60</td>\n",
       "      <td>150</td>\n",
       "      <td>130</td>\n",
       "      <td>70</td>\n",
       "    </tr>\n",
       "    <tr>\n",
       "      <th>798</th>\n",
       "      <td>720</td>\n",
       "      <td>HoopaHoopa Unbound</td>\n",
       "      <td>Psychic</td>\n",
       "      <td>Dark</td>\n",
       "      <td>680</td>\n",
       "      <td>80</td>\n",
       "      <td>160</td>\n",
       "      <td>60</td>\n",
       "      <td>170</td>\n",
       "      <td>130</td>\n",
       "      <td>80</td>\n",
       "    </tr>\n",
       "    <tr>\n",
       "      <th>799</th>\n",
       "      <td>721</td>\n",
       "      <td>Volcanion</td>\n",
       "      <td>Fire</td>\n",
       "      <td>Water</td>\n",
       "      <td>600</td>\n",
       "      <td>80</td>\n",
       "      <td>110</td>\n",
       "      <td>120</td>\n",
       "      <td>130</td>\n",
       "      <td>90</td>\n",
       "      <td>70</td>\n",
       "    </tr>\n",
       "  </tbody>\n",
       "</table>\n",
       "<p>800 rows × 11 columns</p>\n",
       "</div>"
      ],
      "text/plain": [
       "       #                   Name   Type 1  Type 2  Total  HP  Attack  Defense  \\\n",
       "0      1              Bulbasaur    Grass  Poison    318  45      49       49   \n",
       "1      2                Ivysaur    Grass  Poison    405  60      62       63   \n",
       "2      3               Venusaur    Grass  Poison    525  80      82       83   \n",
       "3      3  VenusaurMega Venusaur    Grass  Poison    625  80     100      123   \n",
       "4      4             Charmander     Fire     NaN    309  39      52       43   \n",
       "..   ...                    ...      ...     ...    ...  ..     ...      ...   \n",
       "795  719                Diancie     Rock   Fairy    600  50     100      150   \n",
       "796  719    DiancieMega Diancie     Rock   Fairy    700  50     160      110   \n",
       "797  720    HoopaHoopa Confined  Psychic   Ghost    600  80     110       60   \n",
       "798  720     HoopaHoopa Unbound  Psychic    Dark    680  80     160       60   \n",
       "799  721              Volcanion     Fire   Water    600  80     110      120   \n",
       "\n",
       "     Sp. Atk  Sp. Def  Speed  \n",
       "0         65       65     45  \n",
       "1         80       80     60  \n",
       "2        100      100     80  \n",
       "3        122      120     80  \n",
       "4         60       50     65  \n",
       "..       ...      ...    ...  \n",
       "795      100      150     50  \n",
       "796      160      110    110  \n",
       "797      150      130     70  \n",
       "798      170      130     80  \n",
       "799      130       90     70  \n",
       "\n",
       "[800 rows x 11 columns]"
      ]
     },
     "execution_count": 474,
     "metadata": {},
     "output_type": "execute_result"
    }
   ],
   "source": [
    "df = pd.read_csv('pandas/data/pokemon.csv')\n",
    "df['Name'] #可以是一个列名\n",
    "df[['Name']] #可以是一个数组或list\n",
    "df[['Name','Type 1']] #只能有一个变量，取两列需要写进一个列表里\n",
    "df"
   ]
  },
  {
   "cell_type": "code",
   "execution_count": 128,
   "id": "e2b6e459",
   "metadata": {},
   "outputs": [
    {
     "data": {
      "text/plain": [
       "0      318\n",
       "1      405\n",
       "2      525\n",
       "3      625\n",
       "4      309\n",
       "      ... \n",
       "795    600\n",
       "796    700\n",
       "797    600\n",
       "798    680\n",
       "799    600\n",
       "Length: 800, dtype: int64"
      ]
     },
     "execution_count": 128,
     "metadata": {},
     "output_type": "execute_result"
    }
   ],
   "source": [
    "(df[['HP','Attack','Defense','Sp. Atk','Sp. Def','Speed']]).sum(1) "
   ]
  },
  {
   "cell_type": "code",
   "execution_count": 241,
   "id": "3e553023",
   "metadata": {},
   "outputs": [
    {
     "data": {
      "text/plain": [
       "0.0"
      ]
     },
     "execution_count": 241,
     "metadata": {},
     "output_type": "execute_result"
    }
   ],
   "source": [
    "(df[['HP','Attack','Defense','Sp. Atk','Sp. Def','Speed']].sum(1) != df['Total']).mean()\n",
    "#使用 == 得到1，不够直观，所以使用！="
   ]
  },
  {
   "cell_type": "code",
   "execution_count": 242,
   "id": "ad8a6f2a",
   "metadata": {},
   "outputs": [
    {
     "data": {
      "text/plain": [
       "Type 1    18\n",
       "dtype: int64"
      ]
     },
     "execution_count": 242,
     "metadata": {},
     "output_type": "execute_result"
    }
   ],
   "source": [
    "#方法一，直接取列Type1\n",
    "df[['Type 1']].drop_duplicates('Type 1').count()"
   ]
  },
  {
   "cell_type": "code",
   "execution_count": 349,
   "id": "bf05d1a9",
   "metadata": {},
   "outputs": [
    {
     "data": {
      "text/plain": [
       "Type 1    18\n",
       "dtype: int64"
      ]
     },
     "execution_count": 349,
     "metadata": {},
     "output_type": "execute_result"
    }
   ],
   "source": [
    "#方法二 nuniqie\n",
    "df_dup = df.drop_duplicates('#',keep=\"first\")\n",
    "df_dup[['Type 1']].nunique()"
   ]
  },
  {
   "cell_type": "code",
   "execution_count": 253,
   "id": "b4c6d817",
   "metadata": {},
   "outputs": [
    {
     "data": {
      "text/plain": [
       "Type 1\n",
       "Water     105\n",
       "Normal     93\n",
       "Grass      66\n",
       "dtype: int64"
      ]
     },
     "execution_count": 253,
     "metadata": {},
     "output_type": "execute_result"
    }
   ],
   "source": [
    "df_dup[['Type 1']].value_counts()[:3]  #上面的比下面的多保留了一个列名\n",
    "#上面的是dataframe，下面的是series\n",
    "df_dup['Type 1'].value_counts()[:3]"
   ]
  },
  {
   "cell_type": "code",
   "execution_count": 257,
   "id": "ea06f127",
   "metadata": {},
   "outputs": [
    {
     "data": {
      "text/plain": [
       "#    143\n",
       "dtype: int64"
      ]
     },
     "execution_count": 257,
     "metadata": {},
     "output_type": "execute_result"
    }
   ],
   "source": [
    "df_dup.drop_duplicates(['Type 1','Type 2'])[['#']].count()"
   ]
  },
  {
   "cell_type": "code",
   "execution_count": 386,
   "id": "55368405",
   "metadata": {},
   "outputs": [
    {
     "data": {
      "text/plain": [
       "143"
      ]
     },
     "execution_count": 386,
     "metadata": {},
     "output_type": "execute_result"
    }
   ],
   "source": [
    "df_dup.drop_duplicates(['Type 1','Type 2']).shape[0]\n",
    "attr_dup = df_dup.drop_duplicates(['Type 1','Type 2'])\n",
    "attr_dup.shape[0]"
   ]
  },
  {
   "cell_type": "code",
   "execution_count": 379,
   "id": "ae2ad448",
   "metadata": {},
   "outputs": [
    {
     "data": {
      "text/plain": [
       "array(['Poison', nan, 'Flying', 'Ground', 'Fairy', 'Grass', 'Fighting',\n",
       "       'Psychic', 'Steel', 'Ice', 'Rock', 'Water', 'Electric', 'Fire',\n",
       "       'Dragon', 'Dark', 'Ghost', 'Bug', 'Normal'], dtype=object)"
      ]
     },
     "execution_count": 379,
     "metadata": {},
     "output_type": "execute_result"
    }
   ],
   "source": [
    "#df_dup[['Type 1']].unique() # 'DataFrame' object has no attribute 'unique'\n",
    "#df_dup[['Type 1']].nunique() #18\n",
    "df_dup['Type 1'].unique()   # all types\n",
    "    #array(['Grass', 'Fire', 'Water', 'Bug', 'Normal', 'Poison', 'Electric',\n",
    "    #       'Ground', 'Fairy', 'Fighting', 'Psychic', 'Rock', 'Ghost', 'Ice',\n",
    "    #       'Dragon', 'Dark', 'Steel', 'Flying'], dtype=object)\n",
    "#df_dup['Type 1'].nunique() #18\n",
    "df_dup['Type 2'].unique()"
   ]
  },
  {
   "cell_type": "code",
   "execution_count": 408,
   "id": "956740f6",
   "metadata": {
    "collapsed": true
   },
   "outputs": [
    {
     "data": {
      "text/plain": [
       "['Grass Poison',\n",
       " 'Fire',\n",
       " 'Fire Flying',\n",
       " 'Water',\n",
       " 'Bug',\n",
       " 'Bug Flying',\n",
       " 'Bug Poison',\n",
       " 'Normal Flying',\n",
       " 'Normal',\n",
       " 'Poison',\n",
       " 'Electric',\n",
       " 'Ground',\n",
       " 'Poison Ground',\n",
       " 'Fairy',\n",
       " 'Normal Fairy',\n",
       " 'Poison Flying',\n",
       " 'Bug Grass',\n",
       " 'Fighting',\n",
       " 'Water Fighting',\n",
       " 'Psychic',\n",
       " 'Water Poison',\n",
       " 'Rock Ground',\n",
       " 'Water Psychic',\n",
       " 'Electric Steel',\n",
       " 'Water Ice',\n",
       " 'Ghost Poison',\n",
       " 'Grass Psychic',\n",
       " 'Ground Rock',\n",
       " 'Grass',\n",
       " 'Psychic Fairy',\n",
       " 'Ice Psychic',\n",
       " 'Water Flying',\n",
       " 'Rock Water',\n",
       " 'Rock Flying',\n",
       " 'Ice Flying',\n",
       " 'Electric Flying',\n",
       " 'Dragon',\n",
       " 'Dragon Flying',\n",
       " 'Water Electric',\n",
       " 'Fairy Flying',\n",
       " 'Psychic Flying',\n",
       " 'Water Fairy',\n",
       " 'Rock',\n",
       " 'Grass Flying',\n",
       " 'Water Ground',\n",
       " 'Dark',\n",
       " 'Dark Flying',\n",
       " 'Ghost',\n",
       " 'Normal Psychic',\n",
       " 'Bug Steel',\n",
       " 'Ground Flying',\n",
       " 'Steel Ground',\n",
       " 'Bug Rock',\n",
       " 'Bug Fighting',\n",
       " 'Dark Ice',\n",
       " 'Fire Rock',\n",
       " 'Ice Ground',\n",
       " 'Water Rock',\n",
       " 'Steel Flying',\n",
       " 'Dark Fire',\n",
       " 'Water Dragon',\n",
       " 'Rock Dark',\n",
       " 'Psychic Grass',\n",
       " 'Fire Fighting',\n",
       " 'Water Grass',\n",
       " 'Grass Dark',\n",
       " 'Bug Water',\n",
       " 'Grass Fighting',\n",
       " 'Bug Ground',\n",
       " 'Bug Ghost',\n",
       " 'Dark Ghost',\n",
       " 'Steel Fairy',\n",
       " 'Steel Rock',\n",
       " 'Fighting Psychic',\n",
       " 'Water Dark',\n",
       " 'Fire Ground',\n",
       " 'Ground Dragon',\n",
       " 'Rock Psychic',\n",
       " 'Ground Psychic',\n",
       " 'Rock Grass',\n",
       " 'Rock Bug',\n",
       " 'Ice',\n",
       " 'Ice Water',\n",
       " 'Steel Psychic',\n",
       " 'Steel',\n",
       " 'Dragon Psychic',\n",
       " 'Grass Ground',\n",
       " 'Water Steel',\n",
       " 'Normal Water',\n",
       " 'Rock Steel',\n",
       " 'Ghost Flying',\n",
       " 'Poison Dark',\n",
       " 'Ghost Dark',\n",
       " 'Dragon Ground',\n",
       " 'Fighting Steel',\n",
       " 'Poison Bug',\n",
       " 'Poison Fighting',\n",
       " 'Grass Ice',\n",
       " 'Psychic Fighting',\n",
       " 'Ice Ghost',\n",
       " 'Electric Ghost',\n",
       " 'Steel Dragon',\n",
       " 'Fire Steel',\n",
       " 'Ghost Dragon',\n",
       " 'Psychic Fire',\n",
       " 'Ground Steel',\n",
       " 'Grass Fairy',\n",
       " 'Ground Dark',\n",
       " 'Dark Fighting',\n",
       " 'Normal Grass',\n",
       " 'Water Ghost',\n",
       " 'Bug Electric',\n",
       " 'Grass Steel',\n",
       " 'Ghost Fire',\n",
       " 'Ground Electric',\n",
       " 'Ground Ghost',\n",
       " 'Dark Steel',\n",
       " 'Dark Dragon',\n",
       " 'Bug Fire',\n",
       " 'Steel Fighting',\n",
       " 'Rock Fighting',\n",
       " 'Flying',\n",
       " 'Dragon Fire',\n",
       " 'Dragon Electric',\n",
       " 'Dragon Ice',\n",
       " 'Fire Psychic',\n",
       " 'Normal Ground',\n",
       " 'Fire Normal',\n",
       " 'Fighting Dark',\n",
       " 'Steel Ghost',\n",
       " 'Dark Psychic',\n",
       " 'Poison Water',\n",
       " 'Poison Dragon',\n",
       " 'Electric Normal',\n",
       " 'Rock Dragon',\n",
       " 'Rock Ice',\n",
       " 'Fighting Flying',\n",
       " 'Electric Fairy',\n",
       " 'Rock Fairy',\n",
       " 'Ghost Grass',\n",
       " 'Flying Dragon',\n",
       " 'Psychic Ghost',\n",
       " 'Fire Water']"
      ]
     },
     "execution_count": 408,
     "metadata": {},
     "output_type": "execute_result"
    }
   ],
   "source": [
    "#求尚未出现的属性组合\n",
    "#将两列拼接起来\n",
    "p_all = [' '.join([i,j]) if i!=j else i \n",
    "         for j in df_dup['Type 1'].unique() for i in df_dup['Type 1'].unique() ]\n",
    "#后一个循环不能用Type2 因为里面有nan，np.nan是float，不是string\n",
    "p_used = [' '.join([i,j]) if type(j)!=float else i\n",
    "         #for i in attr_dup['Type 1'] for j in attr_dup['Type 2']  #143*143=20449项\n",
    "         for i,j in zip(attr_dup['Type 1'],attr_dup['Type 2'] )   #143 项\n",
    "         ]\n",
    "p_all\n",
    "p_used"
   ]
  },
  {
   "cell_type": "markdown",
   "id": "717f275d",
   "metadata": {},
   "source": [
    "# 注意拼接i，j的时候，到底有没有空格"
   ]
  },
  {
   "cell_type": "code",
   "execution_count": 422,
   "id": "87950129",
   "metadata": {},
   "outputs": [
    {
     "data": {
      "text/plain": [
       "181"
      ]
     },
     "execution_count": 422,
     "metadata": {},
     "output_type": "execute_result"
    }
   ],
   "source": [
    "res = set(p_all).difference(set(p_used))\n",
    "len(res)"
   ]
  },
  {
   "cell_type": "code",
   "execution_count": 440,
   "id": "5f21ae09",
   "metadata": {},
   "outputs": [
    {
     "data": {
      "text/plain": [
       "0    low\n",
       "1    mid\n",
       "2    mid\n",
       "3    mid\n",
       "4    mid\n",
       "Name: Attack, dtype: object"
      ]
     },
     "execution_count": 440,
     "metadata": {},
     "output_type": "execute_result"
    }
   ],
   "source": [
    "df['Attack'].mask(df['Attack']>120,'high'\n",
    "                 ).mask(df['Attack']< 50,'low'\n",
    "                       ).mask(\n",
    "                        (df['Attack']<=120) & (df['Attack']>=50),'mid').head()"
   ]
  },
  {
   "cell_type": "code",
   "execution_count": 508,
   "id": "7bb60e5a",
   "metadata": {},
   "outputs": [
    {
     "name": "stdout",
     "output_type": "stream",
     "text": [
      "Wall time: 0 ns\n"
     ]
    },
    {
     "data": {
      "text/plain": [
       "0        GRASS\n",
       "1        GRASS\n",
       "2        GRASS\n",
       "3        GRASS\n",
       "4         FIRE\n",
       "        ...   \n",
       "795       ROCK\n",
       "796       ROCK\n",
       "797    PSYCHIC\n",
       "798    PSYCHIC\n",
       "799       FIRE\n",
       "Name: Type 1, Length: 800, dtype: object"
      ]
     },
     "execution_count": 508,
     "metadata": {},
     "output_type": "execute_result"
    }
   ],
   "source": [
    "df['Type 1'].replace({i:str.upper(i) for i in df['Type 1']} )"
   ]
  },
  {
   "cell_type": "code",
   "execution_count": 517,
   "id": "98ca9a6b",
   "metadata": {},
   "outputs": [
    {
     "data": {
      "text/plain": [
       "0     Grass\n",
       "1     Grass\n",
       "2     Grass\n",
       "3     Grass\n",
       "4      FIRE\n",
       "5      FIRE\n",
       "6      FIRE\n",
       "7      FIRE\n",
       "8      FIRE\n",
       "9     Water\n",
       "10    Water\n",
       "11    Water\n",
       "12    Water\n",
       "13      Bug\n",
       "14      Bug\n",
       "15      Bug\n",
       "16      Bug\n",
       "17      Bug\n",
       "18      Bug\n",
       "19      Bug\n",
       "Name: Type 1, dtype: object"
      ]
     },
     "execution_count": 517,
     "metadata": {},
     "output_type": "execute_result"
    }
   ],
   "source": [
    "for i in df['Type 1']:\n",
    "    a = df['Type 1'].replace(i,str.upper(i))\n",
    "a.head(20)"
   ]
  },
  {
   "cell_type": "code",
   "execution_count": 521,
   "id": "eaaf640a",
   "metadata": {},
   "outputs": [
    {
     "data": {
      "text/plain": [
       "0    GRASS\n",
       "1    GRASS\n",
       "2    GRASS\n",
       "3    GRASS\n",
       "4     FIRE\n",
       "5     FIRE\n",
       "Name: Type 1, dtype: object"
      ]
     },
     "execution_count": 521,
     "metadata": {},
     "output_type": "execute_result"
    }
   ],
   "source": [
    "df['Type 1'].apply(lambda x:str.upper(x)).head(6)"
   ]
  },
  {
   "cell_type": "code",
   "execution_count": 530,
   "id": "7e20ab2e",
   "metadata": {},
   "outputs": [
    {
     "data": {
      "text/html": [
       "<div>\n",
       "<style scoped>\n",
       "    .dataframe tbody tr th:only-of-type {\n",
       "        vertical-align: middle;\n",
       "    }\n",
       "\n",
       "    .dataframe tbody tr th {\n",
       "        vertical-align: top;\n",
       "    }\n",
       "\n",
       "    .dataframe thead th {\n",
       "        text-align: right;\n",
       "    }\n",
       "</style>\n",
       "<table border=\"1\" class=\"dataframe\">\n",
       "  <thead>\n",
       "    <tr style=\"text-align: right;\">\n",
       "      <th></th>\n",
       "      <th>#</th>\n",
       "      <th>Name</th>\n",
       "      <th>Type 1</th>\n",
       "      <th>Type 2</th>\n",
       "      <th>Total</th>\n",
       "      <th>HP</th>\n",
       "      <th>Attack</th>\n",
       "      <th>Defense</th>\n",
       "      <th>Sp. Atk</th>\n",
       "      <th>Sp. Def</th>\n",
       "      <th>Speed</th>\n",
       "      <th>Deviation</th>\n",
       "    </tr>\n",
       "  </thead>\n",
       "  <tbody>\n",
       "    <tr>\n",
       "      <th>230</th>\n",
       "      <td>213</td>\n",
       "      <td>Shuckle</td>\n",
       "      <td>Bug</td>\n",
       "      <td>Rock</td>\n",
       "      <td>505</td>\n",
       "      <td>20</td>\n",
       "      <td>10</td>\n",
       "      <td>230</td>\n",
       "      <td>10</td>\n",
       "      <td>230</td>\n",
       "      <td>5</td>\n",
       "      <td>215.0</td>\n",
       "    </tr>\n",
       "    <tr>\n",
       "      <th>121</th>\n",
       "      <td>113</td>\n",
       "      <td>Chansey</td>\n",
       "      <td>Normal</td>\n",
       "      <td>NaN</td>\n",
       "      <td>450</td>\n",
       "      <td>250</td>\n",
       "      <td>5</td>\n",
       "      <td>5</td>\n",
       "      <td>35</td>\n",
       "      <td>105</td>\n",
       "      <td>50</td>\n",
       "      <td>207.5</td>\n",
       "    </tr>\n",
       "    <tr>\n",
       "      <th>261</th>\n",
       "      <td>242</td>\n",
       "      <td>Blissey</td>\n",
       "      <td>Normal</td>\n",
       "      <td>NaN</td>\n",
       "      <td>540</td>\n",
       "      <td>255</td>\n",
       "      <td>10</td>\n",
       "      <td>10</td>\n",
       "      <td>75</td>\n",
       "      <td>135</td>\n",
       "      <td>55</td>\n",
       "      <td>190.0</td>\n",
       "    </tr>\n",
       "    <tr>\n",
       "      <th>333</th>\n",
       "      <td>306</td>\n",
       "      <td>AggronMega Aggron</td>\n",
       "      <td>Steel</td>\n",
       "      <td>NaN</td>\n",
       "      <td>630</td>\n",
       "      <td>70</td>\n",
       "      <td>140</td>\n",
       "      <td>230</td>\n",
       "      <td>60</td>\n",
       "      <td>80</td>\n",
       "      <td>50</td>\n",
       "      <td>155.0</td>\n",
       "    </tr>\n",
       "    <tr>\n",
       "      <th>224</th>\n",
       "      <td>208</td>\n",
       "      <td>SteelixMega Steelix</td>\n",
       "      <td>Steel</td>\n",
       "      <td>Ground</td>\n",
       "      <td>610</td>\n",
       "      <td>75</td>\n",
       "      <td>125</td>\n",
       "      <td>230</td>\n",
       "      <td>55</td>\n",
       "      <td>95</td>\n",
       "      <td>30</td>\n",
       "      <td>145.0</td>\n",
       "    </tr>\n",
       "    <tr>\n",
       "      <th>...</th>\n",
       "      <td>...</td>\n",
       "      <td>...</td>\n",
       "      <td>...</td>\n",
       "      <td>...</td>\n",
       "      <td>...</td>\n",
       "      <td>...</td>\n",
       "      <td>...</td>\n",
       "      <td>...</td>\n",
       "      <td>...</td>\n",
       "      <td>...</td>\n",
       "      <td>...</td>\n",
       "      <td>...</td>\n",
       "    </tr>\n",
       "    <tr>\n",
       "      <th>143</th>\n",
       "      <td>132</td>\n",
       "      <td>Ditto</td>\n",
       "      <td>Normal</td>\n",
       "      <td>NaN</td>\n",
       "      <td>288</td>\n",
       "      <td>48</td>\n",
       "      <td>48</td>\n",
       "      <td>48</td>\n",
       "      <td>48</td>\n",
       "      <td>48</td>\n",
       "      <td>48</td>\n",
       "      <td>0.0</td>\n",
       "    </tr>\n",
       "    <tr>\n",
       "      <th>165</th>\n",
       "      <td>151</td>\n",
       "      <td>Mew</td>\n",
       "      <td>Psychic</td>\n",
       "      <td>NaN</td>\n",
       "      <td>600</td>\n",
       "      <td>100</td>\n",
       "      <td>100</td>\n",
       "      <td>100</td>\n",
       "      <td>100</td>\n",
       "      <td>100</td>\n",
       "      <td>100</td>\n",
       "      <td>0.0</td>\n",
       "    </tr>\n",
       "    <tr>\n",
       "      <th>255</th>\n",
       "      <td>236</td>\n",
       "      <td>Tyrogue</td>\n",
       "      <td>Fighting</td>\n",
       "      <td>NaN</td>\n",
       "      <td>210</td>\n",
       "      <td>35</td>\n",
       "      <td>35</td>\n",
       "      <td>35</td>\n",
       "      <td>35</td>\n",
       "      <td>35</td>\n",
       "      <td>35</td>\n",
       "      <td>0.0</td>\n",
       "    </tr>\n",
       "    <tr>\n",
       "      <th>206</th>\n",
       "      <td>191</td>\n",
       "      <td>Sunkern</td>\n",
       "      <td>Grass</td>\n",
       "      <td>NaN</td>\n",
       "      <td>180</td>\n",
       "      <td>30</td>\n",
       "      <td>30</td>\n",
       "      <td>30</td>\n",
       "      <td>30</td>\n",
       "      <td>30</td>\n",
       "      <td>30</td>\n",
       "      <td>0.0</td>\n",
       "    </tr>\n",
       "    <tr>\n",
       "      <th>271</th>\n",
       "      <td>251</td>\n",
       "      <td>Celebi</td>\n",
       "      <td>Psychic</td>\n",
       "      <td>Grass</td>\n",
       "      <td>600</td>\n",
       "      <td>100</td>\n",
       "      <td>100</td>\n",
       "      <td>100</td>\n",
       "      <td>100</td>\n",
       "      <td>100</td>\n",
       "      <td>100</td>\n",
       "      <td>0.0</td>\n",
       "    </tr>\n",
       "  </tbody>\n",
       "</table>\n",
       "<p>800 rows × 12 columns</p>\n",
       "</div>"
      ],
      "text/plain": [
       "       #                 Name    Type 1  Type 2  Total   HP  Attack  Defense  \\\n",
       "230  213              Shuckle       Bug    Rock    505   20      10      230   \n",
       "121  113              Chansey    Normal     NaN    450  250       5        5   \n",
       "261  242              Blissey    Normal     NaN    540  255      10       10   \n",
       "333  306    AggronMega Aggron     Steel     NaN    630   70     140      230   \n",
       "224  208  SteelixMega Steelix     Steel  Ground    610   75     125      230   \n",
       "..   ...                  ...       ...     ...    ...  ...     ...      ...   \n",
       "143  132                Ditto    Normal     NaN    288   48      48       48   \n",
       "165  151                  Mew   Psychic     NaN    600  100     100      100   \n",
       "255  236              Tyrogue  Fighting     NaN    210   35      35       35   \n",
       "206  191              Sunkern     Grass     NaN    180   30      30       30   \n",
       "271  251               Celebi   Psychic   Grass    600  100     100      100   \n",
       "\n",
       "     Sp. Atk  Sp. Def  Speed  Deviation  \n",
       "230       10      230      5      215.0  \n",
       "121       35      105     50      207.5  \n",
       "261       75      135     55      190.0  \n",
       "333       60       80     50      155.0  \n",
       "224       55       95     30      145.0  \n",
       "..       ...      ...    ...        ...  \n",
       "143       48       48     48        0.0  \n",
       "165      100      100    100        0.0  \n",
       "255       35       35     35        0.0  \n",
       "206       30       30     30        0.0  \n",
       "271      100      100    100        0.0  \n",
       "\n",
       "[800 rows x 12 columns]"
      ]
     },
     "execution_count": 530,
     "metadata": {},
     "output_type": "execute_result"
    }
   ],
   "source": [
    "df['Deviation'] = df[['HP','Attack','Defense','Sp. Atk','Sp. Def','Speed']].apply(lambda x:np.max( (x-x.median()).abs()),1)\n",
    "# 最后一位表示坐标轴 axis=1 横着在一行上运算\n",
    "df.sort_values('Deviation',ascending = False)"
   ]
  },
  {
   "cell_type": "markdown",
   "id": "4b218961",
   "metadata": {},
   "source": [
    "# EX2 指数加权窗口"
   ]
  },
  {
   "cell_type": "code",
   "execution_count": 545,
   "id": "f3282541",
   "metadata": {},
   "outputs": [
    {
     "data": {
      "text/plain": [
       "0   -1.000000\n",
       "1   -1.000000\n",
       "2   -1.409836\n",
       "3   -1.609756\n",
       "4   -1.725845\n",
       "dtype: float64"
      ]
     },
     "execution_count": 545,
     "metadata": {},
     "output_type": "execute_result"
    }
   ],
   "source": [
    "np.random.seed(0)\n",
    "s = pd.Series(np.random.randint(-1,2,30).cumsum()) #返回累计和\n",
    "s.ewm(alpha=0.2).mean().head()"
   ]
  },
  {
   "cell_type": "code",
   "execution_count": 548,
   "id": "f2f6b76e",
   "metadata": {},
   "outputs": [
    {
     "data": {
      "text/plain": [
       "0   -1.000000\n",
       "1   -1.000000\n",
       "2   -1.409836\n",
       "3   -1.609756\n",
       "4   -1.725845\n",
       "dtype: float64"
      ]
     },
     "execution_count": 548,
     "metadata": {},
     "output_type": "execute_result"
    }
   ],
   "source": [
    "def ewm_func(x,alpha=0.2):\n",
    "    win = (1-alpha)**np.arange(x.shape[0])[::-1]\n",
    "    res = (win*x).sum()/win.sum()\n",
    "    return res\n",
    "s.expanding().apply(ewm_func).head()"
   ]
  },
  {
   "cell_type": "code",
   "execution_count": 555,
   "id": "8446c8a3",
   "metadata": {},
   "outputs": [
    {
     "data": {
      "text/plain": [
       "0         NaN\n",
       "1         NaN\n",
       "2         NaN\n",
       "3         NaN\n",
       "4   -1.725845\n",
       "dtype: float64"
      ]
     },
     "execution_count": 555,
     "metadata": {},
     "output_type": "execute_result"
    }
   ],
   "source": [
    "s.rolling(window=5).apply(ewm_func).head() #规定了window宽度"
   ]
  }
 ],
 "metadata": {
  "kernelspec": {
   "display_name": "Python 3 (ipykernel)",
   "language": "python",
   "name": "python3"
  },
  "language_info": {
   "codemirror_mode": {
    "name": "ipython",
    "version": 3
   },
   "file_extension": ".py",
   "mimetype": "text/x-python",
   "name": "python",
   "nbconvert_exporter": "python",
   "pygments_lexer": "ipython3",
   "version": "3.9.7"
  }
 },
 "nbformat": 4,
 "nbformat_minor": 5
}
